{
 "cells": [
  {
   "cell_type": "markdown",
   "metadata": {},
   "source": [
    "# Deeplearning N Network Based Recommandation System on Yelp Data"
   ]
  },
  {
   "cell_type": "code",
   "execution_count": 2,
   "metadata": {},
   "outputs": [],
   "source": [
    "import pandas as pd\n",
    "import numpy as np\n",
    "import json\n",
    "import matplotlib.pyplot as plt"
   ]
  },
  {
   "cell_type": "markdown",
   "metadata": {},
   "source": [
    "## Data Processing"
   ]
  },
  {
   "cell_type": "markdown",
   "metadata": {},
   "source": [
    "##### Load in Review data "
   ]
  },
  {
   "cell_type": "code",
   "execution_count": 3,
   "metadata": {},
   "outputs": [],
   "source": [
    "review = []\n",
    "for line in open('review.json', 'r'):\n",
    "    review.append(json.loads(line))"
   ]
  },
  {
   "cell_type": "code",
   "execution_count": 4,
   "metadata": {},
   "outputs": [],
   "source": [
    "business_info = []\n",
    "for line in open('business.json', 'r'):\n",
    "    business_info.append(json.loads(line))"
   ]
  },
  {
   "cell_type": "code",
   "execution_count": 5,
   "metadata": {},
   "outputs": [],
   "source": [
    "user_df = pd.read_csv('user.csv',names=['user id','# of funny votes','# of useful votes',' # of cool votes',' avg rating',' total review count'])\n",
    "business_df = pd.read_csv('business.csv',header = None)"
   ]
  },
  {
   "cell_type": "code",
   "execution_count": 6,
   "metadata": {},
   "outputs": [
    {
     "data": {
      "text/html": [
       "<div>\n",
       "<style scoped>\n",
       "    .dataframe tbody tr th:only-of-type {\n",
       "        vertical-align: middle;\n",
       "    }\n",
       "\n",
       "    .dataframe tbody tr th {\n",
       "        vertical-align: top;\n",
       "    }\n",
       "\n",
       "    .dataframe thead th {\n",
       "        text-align: right;\n",
       "    }\n",
       "</style>\n",
       "<table border=\"1\" class=\"dataframe\">\n",
       "  <thead>\n",
       "    <tr style=\"text-align: right;\">\n",
       "      <th></th>\n",
       "      <th>user id</th>\n",
       "      <th># of funny votes</th>\n",
       "      <th># of useful votes</th>\n",
       "      <th># of cool votes</th>\n",
       "      <th>avg rating</th>\n",
       "      <th>total review count</th>\n",
       "    </tr>\n",
       "  </thead>\n",
       "  <tbody>\n",
       "    <tr>\n",
       "      <th>0</th>\n",
       "      <td>14443</td>\n",
       "      <td>30</td>\n",
       "      <td>45</td>\n",
       "      <td>36</td>\n",
       "      <td>3.79</td>\n",
       "      <td>19</td>\n",
       "    </tr>\n",
       "    <tr>\n",
       "      <th>1</th>\n",
       "      <td>17782</td>\n",
       "      <td>5</td>\n",
       "      <td>24</td>\n",
       "      <td>9</td>\n",
       "      <td>3.90</td>\n",
       "      <td>10</td>\n",
       "    </tr>\n",
       "    <tr>\n",
       "      <th>2</th>\n",
       "      <td>13295</td>\n",
       "      <td>2</td>\n",
       "      <td>24</td>\n",
       "      <td>0</td>\n",
       "      <td>4.23</td>\n",
       "      <td>22</td>\n",
       "    </tr>\n",
       "    <tr>\n",
       "      <th>3</th>\n",
       "      <td>15187</td>\n",
       "      <td>0</td>\n",
       "      <td>7</td>\n",
       "      <td>0</td>\n",
       "      <td>4.00</td>\n",
       "      <td>9</td>\n",
       "    </tr>\n",
       "    <tr>\n",
       "      <th>4</th>\n",
       "      <td>16016</td>\n",
       "      <td>13</td>\n",
       "      <td>21</td>\n",
       "      <td>5</td>\n",
       "      <td>3.62</td>\n",
       "      <td>16</td>\n",
       "    </tr>\n",
       "  </tbody>\n",
       "</table>\n",
       "</div>"
      ],
      "text/plain": [
       "   user id  # of funny votes  # of useful votes   # of cool votes  \\\n",
       "0    14443                30                 45                36   \n",
       "1    17782                 5                 24                 9   \n",
       "2    13295                 2                 24                 0   \n",
       "3    15187                 0                  7                 0   \n",
       "4    16016                13                 21                 5   \n",
       "\n",
       "    avg rating   total review count  \n",
       "0         3.79                   19  \n",
       "1         3.90                   10  \n",
       "2         4.23                   22  \n",
       "3         4.00                    9  \n",
       "4         3.62                   16  "
      ]
     },
     "execution_count": 6,
     "metadata": {},
     "output_type": "execute_result"
    }
   ],
   "source": [
    "user_df.head()"
   ]
  },
  {
   "cell_type": "code",
   "execution_count": 7,
   "metadata": {},
   "outputs": [
    {
     "data": {
      "text/html": [
       "<div>\n",
       "<style scoped>\n",
       "    .dataframe tbody tr th:only-of-type {\n",
       "        vertical-align: middle;\n",
       "    }\n",
       "\n",
       "    .dataframe tbody tr th {\n",
       "        vertical-align: top;\n",
       "    }\n",
       "\n",
       "    .dataframe thead th {\n",
       "        text-align: right;\n",
       "    }\n",
       "</style>\n",
       "<table border=\"1\" class=\"dataframe\">\n",
       "  <thead>\n",
       "    <tr style=\"text-align: right;\">\n",
       "      <th></th>\n",
       "      <th>0</th>\n",
       "      <th>1</th>\n",
       "      <th>2</th>\n",
       "      <th>3</th>\n",
       "      <th>4</th>\n",
       "      <th>5</th>\n",
       "      <th>6</th>\n",
       "      <th>7</th>\n",
       "      <th>8</th>\n",
       "      <th>9</th>\n",
       "      <th>10</th>\n",
       "      <th>11</th>\n",
       "      <th>12</th>\n",
       "      <th>13</th>\n",
       "    </tr>\n",
       "  </thead>\n",
       "  <tbody>\n",
       "    <tr>\n",
       "      <th>0</th>\n",
       "      <td>4584</td>\n",
       "      <td>1</td>\n",
       "      <td>4</td>\n",
       "      <td>5</td>\n",
       "      <td>6.0</td>\n",
       "      <td>7.0</td>\n",
       "      <td>8.0</td>\n",
       "      <td>9.0</td>\n",
       "      <td>NaN</td>\n",
       "      <td>NaN</td>\n",
       "      <td>NaN</td>\n",
       "      <td>NaN</td>\n",
       "      <td>NaN</td>\n",
       "      <td>NaN</td>\n",
       "    </tr>\n",
       "    <tr>\n",
       "      <th>1</th>\n",
       "      <td>4222</td>\n",
       "      <td>1</td>\n",
       "      <td>4</td>\n",
       "      <td>10</td>\n",
       "      <td>11.0</td>\n",
       "      <td>12.0</td>\n",
       "      <td>13.0</td>\n",
       "      <td>14.0</td>\n",
       "      <td>NaN</td>\n",
       "      <td>NaN</td>\n",
       "      <td>NaN</td>\n",
       "      <td>NaN</td>\n",
       "      <td>NaN</td>\n",
       "      <td>NaN</td>\n",
       "    </tr>\n",
       "    <tr>\n",
       "      <th>2</th>\n",
       "      <td>4646</td>\n",
       "      <td>1</td>\n",
       "      <td>4</td>\n",
       "      <td>15</td>\n",
       "      <td>16.0</td>\n",
       "      <td>17.0</td>\n",
       "      <td>14.0</td>\n",
       "      <td>18.0</td>\n",
       "      <td>19.0</td>\n",
       "      <td>20.0</td>\n",
       "      <td>21.0</td>\n",
       "      <td>NaN</td>\n",
       "      <td>NaN</td>\n",
       "      <td>NaN</td>\n",
       "    </tr>\n",
       "    <tr>\n",
       "      <th>3</th>\n",
       "      <td>4137</td>\n",
       "      <td>1</td>\n",
       "      <td>4</td>\n",
       "      <td>22</td>\n",
       "      <td>23.0</td>\n",
       "      <td>9.0</td>\n",
       "      <td>NaN</td>\n",
       "      <td>NaN</td>\n",
       "      <td>NaN</td>\n",
       "      <td>NaN</td>\n",
       "      <td>NaN</td>\n",
       "      <td>NaN</td>\n",
       "      <td>NaN</td>\n",
       "      <td>NaN</td>\n",
       "    </tr>\n",
       "    <tr>\n",
       "      <th>4</th>\n",
       "      <td>1100</td>\n",
       "      <td>1</td>\n",
       "      <td>4</td>\n",
       "      <td>15</td>\n",
       "      <td>24.0</td>\n",
       "      <td>9.0</td>\n",
       "      <td>NaN</td>\n",
       "      <td>NaN</td>\n",
       "      <td>NaN</td>\n",
       "      <td>NaN</td>\n",
       "      <td>NaN</td>\n",
       "      <td>NaN</td>\n",
       "      <td>NaN</td>\n",
       "      <td>NaN</td>\n",
       "    </tr>\n",
       "  </tbody>\n",
       "</table>\n",
       "</div>"
      ],
      "text/plain": [
       "     0   1   2   3     4     5     6     7     8     9     10  11  12  13\n",
       "0  4584   1   4   5   6.0   7.0   8.0   9.0   NaN   NaN   NaN NaN NaN NaN\n",
       "1  4222   1   4  10  11.0  12.0  13.0  14.0   NaN   NaN   NaN NaN NaN NaN\n",
       "2  4646   1   4  15  16.0  17.0  14.0  18.0  19.0  20.0  21.0 NaN NaN NaN\n",
       "3  4137   1   4  22  23.0   9.0   NaN   NaN   NaN   NaN   NaN NaN NaN NaN\n",
       "4  1100   1   4  15  24.0   9.0   NaN   NaN   NaN   NaN   NaN NaN NaN NaN"
      ]
     },
     "execution_count": 7,
     "metadata": {},
     "output_type": "execute_result"
    }
   ],
   "source": [
    "business_df.head()"
   ]
  },
  {
   "cell_type": "code",
   "execution_count": 8,
   "metadata": {
    "scrolled": true
   },
   "outputs": [
    {
     "data": {
      "text/plain": [
       "{'votes': {'funny': 0, 'useful': 5, 'cool': 2},\n",
       " 'user_id': 'rLtl8ZkDX5vH5nAx9C3q5Q',\n",
       " 'review_id': 'fWKvX83p0-ka4JS3dc6E5A',\n",
       " 'stars': 5,\n",
       " 'date': '2011-01-26',\n",
       " 'text': 'My wife took me here on my birthday for breakfast and it was excellent.  The weather was perfect which made sitting outside overlooking their grounds an absolute pleasure.  Our waitress was excellent and our food arrived quickly on the semi-busy Saturday morning.  It looked like the place fills up pretty quickly so the earlier you get here the better.\\n\\nDo yourself a favor and get their Bloody Mary.  It was phenomenal and simply the best I\\'ve ever had.  I\\'m pretty sure they only use ingredients from their garden and blend them fresh when you order it.  It was amazing.\\n\\nWhile EVERYTHING on the menu looks excellent, I had the white truffle scrambled eggs vegetable skillet and it was tasty and delicious.  It came with 2 pieces of their griddled bread with was amazing and it absolutely made the meal complete.  It was the best \"toast\" I\\'ve ever had.\\n\\nAnyway, I can\\'t wait to go back!',\n",
       " 'type': 'review',\n",
       " 'business_id': '9yKzy9PApeiPPOUJEtnvkg'}"
      ]
     },
     "execution_count": 8,
     "metadata": {},
     "output_type": "execute_result"
    }
   ],
   "source": [
    "review[0]"
   ]
  },
  {
   "cell_type": "code",
   "execution_count": 9,
   "metadata": {},
   "outputs": [],
   "source": [
    "user_business_info = []\n",
    "for i in review:\n",
    "    user_business_info.append([i['user_id'],i['business_id'],i['stars']])"
   ]
  },
  {
   "cell_type": "code",
   "execution_count": 10,
   "metadata": {},
   "outputs": [
    {
     "data": {
      "text/plain": [
       "['rLtl8ZkDX5vH5nAx9C3q5Q', '9yKzy9PApeiPPOUJEtnvkg', 5]"
      ]
     },
     "execution_count": 10,
     "metadata": {},
     "output_type": "execute_result"
    }
   ],
   "source": [
    "user_business_info[0]"
   ]
  },
  {
   "cell_type": "code",
   "execution_count": 11,
   "metadata": {},
   "outputs": [
    {
     "data": {
      "text/plain": [
       "(141454, 3)"
      ]
     },
     "execution_count": 11,
     "metadata": {},
     "output_type": "execute_result"
    }
   ],
   "source": [
    "np.array(user_business_info).shape"
   ]
  },
  {
   "cell_type": "code",
   "execution_count": 12,
   "metadata": {},
   "outputs": [],
   "source": [
    "def get_business_id(search_business_token):        \n",
    "    df = pd.read_csv('business-lookup.csv',header = None)\n",
    "    return df[df[1]==search_business_token][0].item()"
   ]
  },
  {
   "cell_type": "code",
   "execution_count": 13,
   "metadata": {},
   "outputs": [
    {
     "data": {
      "text/plain": [
       "3998"
      ]
     },
     "execution_count": 13,
     "metadata": {},
     "output_type": "execute_result"
    }
   ],
   "source": [
    "get_business_id('FuykdWajbSDj0hBY5DIuZQ')"
   ]
  },
  {
   "cell_type": "code",
   "execution_count": 14,
   "metadata": {},
   "outputs": [],
   "source": [
    "def get_business_token(business_id):\n",
    "    df = pd.read_csv('business-lookup.csv',header = None)\n",
    "    return df[df[0]==business_id][1].item()"
   ]
  },
  {
   "cell_type": "code",
   "execution_count": 15,
   "metadata": {},
   "outputs": [
    {
     "data": {
      "text/plain": [
       "'FuykdWajbSDj0hBY5DIuZQ'"
      ]
     },
     "execution_count": 15,
     "metadata": {},
     "output_type": "execute_result"
    }
   ],
   "source": [
    "get_business_token(3998)"
   ]
  },
  {
   "cell_type": "code",
   "execution_count": 16,
   "metadata": {},
   "outputs": [],
   "source": [
    "def get_user_id(search_user_token):\n",
    "    df = pd.read_csv('user-lookup.csv',header=None)\n",
    "    return df[df[1]==search_user_token][0].item()"
   ]
  },
  {
   "cell_type": "code",
   "execution_count": 17,
   "metadata": {},
   "outputs": [
    {
     "data": {
      "text/plain": [
       "10000"
      ]
     },
     "execution_count": 17,
     "metadata": {},
     "output_type": "execute_result"
    }
   ],
   "source": [
    "get_user_id('rLtl8ZkDX5vH5nAx9C3q5Q')"
   ]
  },
  {
   "cell_type": "markdown",
   "metadata": {},
   "source": [
    "### Extract userid and businessid and other features to a list,array or pandas"
   ]
  },
  {
   "cell_type": "markdown",
   "metadata": {
    "scrolled": true
   },
   "source": [
    "userinfo = []\n",
    "for i in user_business_info: # Here to change the total size of dataset in training batch \n",
    "    userinfo.append([get_user_id(i[0]),get_business_id(i[1]),i[2]])"
   ]
  },
  {
   "cell_type": "markdown",
   "metadata": {
    "scrolled": true
   },
   "source": [
    "userinfo = np.asarray(userinfo)\n",
    "userinfo"
   ]
  },
  {
   "cell_type": "markdown",
   "metadata": {},
   "source": [
    "### Asign each column an unique number in the range of row length "
   ]
  },
  {
   "cell_type": "markdown",
   "metadata": {},
   "source": [
    "user_df = pd.DataFrame(userinfo,columns = ['userId','itemId','Rating'])\n",
    "user_df['idxuserId'] = user_df['userId'].astype('category').cat.codes.values\n",
    "user_df['idxitemId'] = user_df['itemId'].astype('category').cat.codes.values"
   ]
  },
  {
   "cell_type": "markdown",
   "metadata": {},
   "source": [
    "user_df.head()"
   ]
  },
  {
   "cell_type": "markdown",
   "metadata": {},
   "source": [
    "user_df.to_csv('IndexedID')"
   ]
  },
  {
   "cell_type": "code",
   "execution_count": 18,
   "metadata": {},
   "outputs": [
    {
     "data": {
      "text/html": [
       "<div>\n",
       "<style scoped>\n",
       "    .dataframe tbody tr th:only-of-type {\n",
       "        vertical-align: middle;\n",
       "    }\n",
       "\n",
       "    .dataframe tbody tr th {\n",
       "        vertical-align: top;\n",
       "    }\n",
       "\n",
       "    .dataframe thead th {\n",
       "        text-align: right;\n",
       "    }\n",
       "</style>\n",
       "<table border=\"1\" class=\"dataframe\">\n",
       "  <thead>\n",
       "    <tr style=\"text-align: right;\">\n",
       "      <th></th>\n",
       "      <th>userId</th>\n",
       "      <th>itemId</th>\n",
       "      <th>Rating</th>\n",
       "      <th>idxuserId</th>\n",
       "      <th>idxitemId</th>\n",
       "    </tr>\n",
       "  </thead>\n",
       "  <tbody>\n",
       "    <tr>\n",
       "      <th>0</th>\n",
       "      <td>10000</td>\n",
       "      <td>0</td>\n",
       "      <td>5</td>\n",
       "      <td>0</td>\n",
       "      <td>0</td>\n",
       "    </tr>\n",
       "    <tr>\n",
       "      <th>1</th>\n",
       "      <td>10001</td>\n",
       "      <td>1</td>\n",
       "      <td>5</td>\n",
       "      <td>1</td>\n",
       "      <td>1</td>\n",
       "    </tr>\n",
       "    <tr>\n",
       "      <th>2</th>\n",
       "      <td>10002</td>\n",
       "      <td>2</td>\n",
       "      <td>5</td>\n",
       "      <td>2</td>\n",
       "      <td>2</td>\n",
       "    </tr>\n",
       "    <tr>\n",
       "      <th>3</th>\n",
       "      <td>10003</td>\n",
       "      <td>3</td>\n",
       "      <td>4</td>\n",
       "      <td>3</td>\n",
       "      <td>3</td>\n",
       "    </tr>\n",
       "    <tr>\n",
       "      <th>4</th>\n",
       "      <td>10004</td>\n",
       "      <td>4</td>\n",
       "      <td>5</td>\n",
       "      <td>4</td>\n",
       "      <td>4</td>\n",
       "    </tr>\n",
       "  </tbody>\n",
       "</table>\n",
       "</div>"
      ],
      "text/plain": [
       "   userId  itemId  Rating  idxuserId  idxitemId\n",
       "0   10000       0       5          0          0\n",
       "1   10001       1       5          1          1\n",
       "2   10002       2       5          2          2\n",
       "3   10003       3       4          3          3\n",
       "4   10004       4       5          4          4"
      ]
     },
     "execution_count": 18,
     "metadata": {},
     "output_type": "execute_result"
    }
   ],
   "source": [
    "user_df = pd.read_csv('IndexedID')\n",
    "user_df = user_df.drop(['Unnamed: 0'], axis=1)\n",
    "user_df.head()"
   ]
  },
  {
   "cell_type": "code",
   "execution_count": 19,
   "metadata": {},
   "outputs": [],
   "source": [
    "from sklearn.model_selection import train_test_split\n",
    "trainkeras, testkeras = train_test_split(user_df, test_size=0.05)"
   ]
  },
  {
   "cell_type": "code",
   "execution_count": 19,
   "metadata": {},
   "outputs": [
    {
     "data": {
      "text/html": [
       "<div>\n",
       "<style scoped>\n",
       "    .dataframe tbody tr th:only-of-type {\n",
       "        vertical-align: middle;\n",
       "    }\n",
       "\n",
       "    .dataframe tbody tr th {\n",
       "        vertical-align: top;\n",
       "    }\n",
       "\n",
       "    .dataframe thead th {\n",
       "        text-align: right;\n",
       "    }\n",
       "</style>\n",
       "<table border=\"1\" class=\"dataframe\">\n",
       "  <thead>\n",
       "    <tr style=\"text-align: right;\">\n",
       "      <th></th>\n",
       "      <th>userId</th>\n",
       "      <th>itemId</th>\n",
       "      <th>Rating</th>\n",
       "      <th>idxuserId</th>\n",
       "      <th>idxitemId</th>\n",
       "    </tr>\n",
       "  </thead>\n",
       "  <tbody>\n",
       "    <tr>\n",
       "      <th>37182</th>\n",
       "      <td>10653</td>\n",
       "      <td>4292</td>\n",
       "      <td>4</td>\n",
       "      <td>653</td>\n",
       "      <td>4292</td>\n",
       "    </tr>\n",
       "    <tr>\n",
       "      <th>53911</th>\n",
       "      <td>16768</td>\n",
       "      <td>34</td>\n",
       "      <td>4</td>\n",
       "      <td>6768</td>\n",
       "      <td>34</td>\n",
       "    </tr>\n",
       "    <tr>\n",
       "      <th>118199</th>\n",
       "      <td>12443</td>\n",
       "      <td>1541</td>\n",
       "      <td>3</td>\n",
       "      <td>2443</td>\n",
       "      <td>1541</td>\n",
       "    </tr>\n",
       "    <tr>\n",
       "      <th>55516</th>\n",
       "      <td>10940</td>\n",
       "      <td>688</td>\n",
       "      <td>5</td>\n",
       "      <td>940</td>\n",
       "      <td>688</td>\n",
       "    </tr>\n",
       "    <tr>\n",
       "      <th>132871</th>\n",
       "      <td>10791</td>\n",
       "      <td>4953</td>\n",
       "      <td>4</td>\n",
       "      <td>791</td>\n",
       "      <td>4953</td>\n",
       "    </tr>\n",
       "  </tbody>\n",
       "</table>\n",
       "</div>"
      ],
      "text/plain": [
       "        userId  itemId  Rating  idxuserId  idxitemId\n",
       "37182    10653    4292       4        653       4292\n",
       "53911    16768      34       4       6768         34\n",
       "118199   12443    1541       3       2443       1541\n",
       "55516    10940     688       5        940        688\n",
       "132871   10791    4953       4        791       4953"
      ]
     },
     "execution_count": 19,
     "metadata": {},
     "output_type": "execute_result"
    }
   ],
   "source": [
    "trainkeras.head()"
   ]
  },
  {
   "cell_type": "markdown",
   "metadata": {},
   "source": [
    "import csv\n",
    "\n",
    "\n",
    "with open('people1.csv', 'a') as csvFile:\n",
    "    writer = csv.writer(csvFile)\n",
    "    writer.writerow(row)\n",
    "\n",
    "csvFile.close()"
   ]
  },
  {
   "cell_type": "markdown",
   "metadata": {},
   "source": [
    "## Train Model"
   ]
  },
  {
   "cell_type": "code",
   "execution_count": 1,
   "metadata": {
    "scrolled": true
   },
   "outputs": [
    {
     "name": "stderr",
     "output_type": "stream",
     "text": [
      "Using TensorFlow backend.\n"
     ]
    }
   ],
   "source": [
    "import keras\n",
    "from IPython.display import SVG,Image\n",
    "from keras.optimizers import Adam\n",
    "from keras.utils.vis_utils import model_to_dot\n",
    "from keras.layers import merge\n",
    "from keras.layers import Input, Embedding, Dot, Reshape, Dense\n",
    "from keras.models import model_from_json\n",
    "from keras.utils import plot_model\n",
    "from keras import losses\n",
    "import keras_metrics as km"
   ]
  },
  {
   "cell_type": "markdown",
   "metadata": {},
   "source": [
    "movie_input = keras.layers.Input(shape=[1],name='Business')\n",
    "movie_embedding = keras.layers.Embedding(n_movies + 1, n_latent_factors, name='Bussiness-Embedding')(movie_input)\n",
    "movie_vec = keras.layers.Flatten(name='FlattenBusiness')(movie_embedding)\n",
    "\n",
    "user_input = keras.layers.Input(shape=[1],name='User')\n",
    "user_vec = keras.layers.Flatten(name='FlattenUsers')(keras.layers.Embedding(n_users + 1, n_latent_factors,name='User-Embedding')(user_input))\n",
    "\n",
    "#prod = keras.layers.Merge([movie_vec, user_vec], mode='dot',name='DotProduct')\n",
    "prod = Dot(name = 'dot_product', normalize = True, axes = 1)([movie_vec, user_vec])\n",
    "model = keras.Model([user_input, movie_input], prod)\n",
    "model.compile('adam', 'mean_squared_error')"
   ]
  },
  {
   "cell_type": "code",
   "execution_count": 20,
   "metadata": {},
   "outputs": [],
   "source": [
    "n_users, n_movies = len(user_df['idxuserId']), len(user_df['idxitemId'])\n",
    "n_latent_factors = 5"
   ]
  },
  {
   "cell_type": "code",
   "execution_count": 26,
   "metadata": {},
   "outputs": [],
   "source": [
    "n_latent_factors_user = 5\n",
    "n_latent_factors_movie = 8\n",
    "\n",
    "bs_input = keras.layers.Input(shape=[1],name='BusinessID')\n",
    "bs_embedding = keras.layers.Embedding(n_movies + 1, n_latent_factors_movie, name='Business-Embedding')(bs_input)\n",
    "bs_vec = keras.layers.Flatten(name='FlattenBusiness')(bs_embedding)\n",
    "bs_vec = keras.layers.Dropout(0.2)(bs_vec)\n",
    "\n",
    "\n",
    "user_input = keras.layers.Input(shape=[1],name='User')\n",
    "user_vec = keras.layers.Flatten(name='FlattenUsers')(keras.layers.Embedding(n_users + 1, n_latent_factors_user,name='User-Embedding')(user_input))\n",
    "user_vec = keras.layers.Dropout(0.2)(user_vec)\n",
    "\n",
    "\n",
    "concat = keras.layers.Concatenate(axis=-1)([bs_vec, user_vec])\n",
    "concat_dropout = keras.layers.Dropout(0.2)(concat)\n",
    "dense = keras.layers.Dense(200,name='FullyConnected')(concat)\n",
    "dropout_1 = keras.layers.Dropout(0.2,name='Dropout')(dense)\n",
    "dense_2 = keras.layers.Dense(100,name='FullyConnected-1')(concat)\n",
    "dropout_2 = keras.layers.Dropout(0.2,name='Dropout')(dense_2)\n",
    "dense_3 = keras.layers.Dense(50,name='FullyConnected-2')(dense_2)\n",
    "dropout_3 = keras.layers.Dropout(0.2,name='Dropout')(dense_3)\n",
    "dense_4 = keras.layers.Dense(20,name='FullyConnected-3', activation='relu')(dense_3)\n",
    "\n",
    "\n",
    "result = keras.layers.Dense(1, activation='relu',name='Activation')(dense_4)\n",
    "adam = Adam(lr=0.005)\n",
    "model = keras.Model([user_input, bs_input], result)\n",
    "model.compile(optimizer=adam,loss= 'mean_squared_error', metrics=[km.precision(), km.recall()])"
   ]
  },
  {
   "cell_type": "code",
   "execution_count": 27,
   "metadata": {},
   "outputs": [
    {
     "name": "stdout",
     "output_type": "stream",
     "text": [
      "__________________________________________________________________________________________________\n",
      "Layer (type)                    Output Shape         Param #     Connected to                     \n",
      "==================================================================================================\n",
      "BusinessID (InputLayer)         (None, 1)            0                                            \n",
      "__________________________________________________________________________________________________\n",
      "User (InputLayer)               (None, 1)            0                                            \n",
      "__________________________________________________________________________________________________\n",
      "Business-Embedding (Embedding)  (None, 1, 8)         1131640     BusinessID[0][0]                 \n",
      "__________________________________________________________________________________________________\n",
      "User-Embedding (Embedding)      (None, 1, 5)         707275      User[0][0]                       \n",
      "__________________________________________________________________________________________________\n",
      "FlattenBusiness (Flatten)       (None, 8)            0           Business-Embedding[0][0]         \n",
      "__________________________________________________________________________________________________\n",
      "FlattenUsers (Flatten)          (None, 5)            0           User-Embedding[0][0]             \n",
      "__________________________________________________________________________________________________\n",
      "dropout_4 (Dropout)             (None, 8)            0           FlattenBusiness[0][0]            \n",
      "__________________________________________________________________________________________________\n",
      "dropout_5 (Dropout)             (None, 5)            0           FlattenUsers[0][0]               \n",
      "__________________________________________________________________________________________________\n",
      "concatenate_2 (Concatenate)     (None, 13)           0           dropout_4[0][0]                  \n",
      "                                                                 dropout_5[0][0]                  \n",
      "__________________________________________________________________________________________________\n",
      "FullyConnected-1 (Dense)        (None, 100)          1400        concatenate_2[0][0]              \n",
      "__________________________________________________________________________________________________\n",
      "FullyConnected-2 (Dense)        (None, 50)           5050        FullyConnected-1[0][0]           \n",
      "__________________________________________________________________________________________________\n",
      "FullyConnected-3 (Dense)        (None, 20)           1020        FullyConnected-2[0][0]           \n",
      "__________________________________________________________________________________________________\n",
      "Activation (Dense)              (None, 1)            21          FullyConnected-3[0][0]           \n",
      "==================================================================================================\n",
      "Total params: 1,846,406\n",
      "Trainable params: 1,846,406\n",
      "Non-trainable params: 0\n",
      "__________________________________________________________________________________________________\n"
     ]
    }
   ],
   "source": [
    "model.summary()"
   ]
  },
  {
   "cell_type": "code",
   "execution_count": 28,
   "metadata": {},
   "outputs": [],
   "source": [
    "#plot_model(model, to_file='model_plot.png', show_shapes=True, show_layer_names=True,rankdir='HB')"
   ]
  },
  {
   "cell_type": "code",
   "execution_count": 29,
   "metadata": {},
   "outputs": [],
   "source": [
    "#SVG(model_to_dot(model,  show_shapes=True, show_layer_names=True, rankdir='HB').create(prog='dot', format='svg'))"
   ]
  },
  {
   "cell_type": "code",
   "execution_count": 31,
   "metadata": {},
   "outputs": [
    {
     "name": "stdout",
     "output_type": "stream",
     "text": [
      "Train on 127308 samples, validate on 14146 samples\n",
      "Epoch 1/50\n",
      "127308/127308 [==============================] - 56s 443us/step - loss: 1.1220 - precision: 3.8197 - recall: 3.8271 - val_loss: 1.0740 - val_precision: 3.8130 - val_recall: 3.8823\n",
      "Epoch 2/50\n",
      "127308/127308 [==============================] - 56s 442us/step - loss: 1.0097 - precision: 3.8442 - recall: 3.8467 - val_loss: 1.0654 - val_precision: 3.8309 - val_recall: 3.9457\n",
      "Epoch 3/50\n",
      "127308/127308 [==============================] - 56s 443us/step - loss: 0.9759 - precision: 3.8517 - recall: 3.8540 - val_loss: 1.0409 - val_precision: 3.8402 - val_recall: 3.8034\n",
      "Epoch 4/50\n",
      "127308/127308 [==============================] - 56s 443us/step - loss: 0.9544 - precision: 3.8558 - recall: 3.8506 - val_loss: 1.0393 - val_precision: 3.8315 - val_recall: 3.8556\n",
      "Epoch 5/50\n",
      "127308/127308 [==============================] - 57s 444us/step - loss: 0.9387 - precision: 3.8591 - recall: 3.8441 - val_loss: 1.0400 - val_precision: 3.8364 - val_recall: 3.7982\n",
      "Epoch 6/50\n",
      "127308/127308 [==============================] - 56s 442us/step - loss: 0.9297 - precision: 3.8607 - recall: 3.8439 - val_loss: 1.0380 - val_precision: 3.8351 - val_recall: 3.7668\n",
      "Epoch 7/50\n",
      "127308/127308 [==============================] - 56s 443us/step - loss: 0.9230 - precision: 3.8628 - recall: 3.8457 - val_loss: 1.0400 - val_precision: 3.8346 - val_recall: 3.7667\n",
      "Epoch 8/50\n",
      "127308/127308 [==============================] - 56s 442us/step - loss: 0.9175 - precision: 3.8638 - recall: 3.8460 - val_loss: 1.0411 - val_precision: 3.8378 - val_recall: 3.7548\n",
      "Epoch 9/50\n",
      "127308/127308 [==============================] - 57s 444us/step - loss: 0.9128 - precision: 3.8654 - recall: 3.8520 - val_loss: 1.0599 - val_precision: 3.8535 - val_recall: 3.9029\n",
      "Epoch 10/50\n",
      "127308/127308 [==============================] - 56s 441us/step - loss: 0.9071 - precision: 3.8657 - recall: 3.8571 - val_loss: 1.0532 - val_precision: 3.8512 - val_recall: 3.8721\n",
      "Epoch 11/50\n",
      "127308/127308 [==============================] - 56s 442us/step - loss: 0.9058 - precision: 3.8667 - recall: 3.8657 - val_loss: 1.0485 - val_precision: 3.8379 - val_recall: 3.8933\n",
      "Epoch 12/50\n",
      "127308/127308 [==============================] - 56s 441us/step - loss: 0.9037 - precision: 3.8667 - recall: 3.8688 - val_loss: 1.0606 - val_precision: 3.8493 - val_recall: 3.9487\n",
      "Epoch 13/50\n",
      "127308/127308 [==============================] - 56s 443us/step - loss: 0.8990 - precision: 3.8675 - recall: 3.8758 - val_loss: 1.0607 - val_precision: 3.8517 - val_recall: 3.8728\n",
      "Epoch 14/50\n",
      "127308/127308 [==============================] - 56s 442us/step - loss: 0.8971 - precision: 3.8684 - recall: 3.8716 - val_loss: 1.0559 - val_precision: 3.8464 - val_recall: 3.8585\n",
      "Epoch 15/50\n",
      "127308/127308 [==============================] - 56s 443us/step - loss: 0.8962 - precision: 3.8672 - recall: 3.8799 - val_loss: 1.0388 - val_precision: 3.8334 - val_recall: 3.8370\n",
      "Epoch 16/50\n",
      "127308/127308 [==============================] - 57s 444us/step - loss: 0.8948 - precision: 3.8666 - recall: 3.8858 - val_loss: 1.0519 - val_precision: 3.8369 - val_recall: 3.8642\n",
      "Epoch 17/50\n",
      "127308/127308 [==============================] - 56s 442us/step - loss: 0.8930 - precision: 3.8668 - recall: 3.8898 - val_loss: 1.0571 - val_precision: 3.8426 - val_recall: 3.8489\n",
      "Epoch 18/50\n",
      "127308/127308 [==============================] - 56s 443us/step - loss: 0.8901 - precision: 3.8668 - recall: 3.8887 - val_loss: 1.0495 - val_precision: 3.8399 - val_recall: 3.9350\n",
      "Epoch 19/50\n",
      "127308/127308 [==============================] - 56s 442us/step - loss: 0.8901 - precision: 3.8674 - recall: 3.8925 - val_loss: 1.0662 - val_precision: 3.8520 - val_recall: 3.8553\n",
      "Epoch 20/50\n",
      "127308/127308 [==============================] - 57s 444us/step - loss: 0.8886 - precision: 3.8688 - recall: 3.8912 - val_loss: 1.0563 - val_precision: 3.8482 - val_recall: 3.8494\n",
      "Epoch 21/50\n",
      "127308/127308 [==============================] - 56s 442us/step - loss: 0.8876 - precision: 3.8687 - recall: 3.8914 - val_loss: 1.0585 - val_precision: 3.8317 - val_recall: 3.7750\n",
      "Epoch 22/50\n",
      "127308/127308 [==============================] - 56s 443us/step - loss: 0.8872 - precision: 3.8688 - recall: 3.8916 - val_loss: 1.0443 - val_precision: 3.8352 - val_recall: 3.8570\n",
      "Epoch 23/50\n",
      "127308/127308 [==============================] - 56s 440us/step - loss: 0.8857 - precision: 3.8691 - recall: 3.8948 - val_loss: 1.0485 - val_precision: 3.8420 - val_recall: 3.8551\n",
      "Epoch 24/50\n",
      "127308/127308 [==============================] - 56s 443us/step - loss: 0.8855 - precision: 3.8704 - recall: 3.8961 - val_loss: 1.0697 - val_precision: 3.8524 - val_recall: 3.9053\n",
      "Epoch 25/50\n",
      "127308/127308 [==============================] - 56s 441us/step - loss: 0.8848 - precision: 3.8701 - recall: 3.8909 - val_loss: 1.0687 - val_precision: 3.8536 - val_recall: 3.9365\n",
      "Epoch 26/50\n",
      "127308/127308 [==============================] - 56s 443us/step - loss: 0.8846 - precision: 3.8703 - recall: 3.8941 - val_loss: 1.0509 - val_precision: 3.8423 - val_recall: 3.8573\n",
      "Epoch 27/50\n",
      "127308/127308 [==============================] - 56s 442us/step - loss: 0.8836 - precision: 3.8704 - recall: 3.8966 - val_loss: 1.0588 - val_precision: 3.8451 - val_recall: 3.8477\n",
      "Epoch 28/50\n",
      "127308/127308 [==============================] - 56s 443us/step - loss: 0.8841 - precision: 3.8708 - recall: 3.8936 - val_loss: 1.0385 - val_precision: 3.8320 - val_recall: 3.8321\n",
      "Epoch 29/50\n",
      "127308/127308 [==============================] - 56s 442us/step - loss: 0.8814 - precision: 3.8711 - recall: 3.8990 - val_loss: 1.0691 - val_precision: 3.8514 - val_recall: 3.8766\n",
      "Epoch 30/50\n",
      "127308/127308 [==============================] - 56s 443us/step - loss: 0.8805 - precision: 3.8715 - recall: 3.8982 - val_loss: 1.0740 - val_precision: 3.8558 - val_recall: 3.8973\n",
      "Epoch 31/50\n",
      "127308/127308 [==============================] - 56s 442us/step - loss: 0.8805 - precision: 3.8713 - recall: 3.8929 - val_loss: 1.0535 - val_precision: 3.8457 - val_recall: 3.8725\n",
      "Epoch 32/50\n",
      "127308/127308 [==============================] - 56s 443us/step - loss: 0.8800 - precision: 3.8718 - recall: 3.8952 - val_loss: 1.0945 - val_precision: 3.8533 - val_recall: 3.9519\n",
      "Epoch 33/50\n",
      "127308/127308 [==============================] - 71s 561us/step - loss: 0.8791 - precision: 3.8722 - recall: 3.8964 - val_loss: 1.0667 - val_precision: 3.8497 - val_recall: 3.8661\n",
      "Epoch 34/50\n",
      "127308/127308 [==============================] - 56s 439us/step - loss: 0.8805 - precision: 3.8717 - recall: 3.8978 - val_loss: 1.0494 - val_precision: 3.8398 - val_recall: 3.8115\n",
      "Epoch 35/50\n",
      "127308/127308 [==============================] - 56s 436us/step - loss: 0.8788 - precision: 3.8722 - recall: 3.8975 - val_loss: 1.0556 - val_precision: 3.8454 - val_recall: 3.8574\n",
      "Epoch 36/50\n",
      "127308/127308 [==============================] - 56s 439us/step - loss: 0.8788 - precision: 3.8723 - recall: 3.8955 - val_loss: 1.0445 - val_precision: 3.8384 - val_recall: 3.8923\n",
      "Epoch 37/50\n",
      "127308/127308 [==============================] - 56s 437us/step - loss: 0.8789 - precision: 3.8721 - recall: 3.8989 - val_loss: 1.0600 - val_precision: 3.8462 - val_recall: 3.8779\n",
      "Epoch 38/50\n",
      "127308/127308 [==============================] - 56s 438us/step - loss: 0.8769 - precision: 3.8731 - recall: 3.8983 - val_loss: 1.0569 - val_precision: 3.8403 - val_recall: 3.8382\n",
      "Epoch 39/50\n",
      "127308/127308 [==============================] - 56s 439us/step - loss: 0.8739 - precision: 3.8743 - recall: 3.8962 - val_loss: 1.0530 - val_precision: 3.8409 - val_recall: 3.9237\n",
      "Epoch 40/50\n",
      "127308/127308 [==============================] - 56s 439us/step - loss: 0.8710 - precision: 3.8750 - recall: 3.8957 - val_loss: 1.0528 - val_precision: 3.8478 - val_recall: 3.8640\n",
      "Epoch 41/50\n",
      "127308/127308 [==============================] - 56s 440us/step - loss: 0.8670 - precision: 3.8768 - recall: 3.8922 - val_loss: 1.0804 - val_precision: 3.8478 - val_recall: 3.7947\n",
      "Epoch 42/50\n",
      "127308/127308 [==============================] - 56s 438us/step - loss: 0.8640 - precision: 3.8779 - recall: 3.8908 - val_loss: 1.0553 - val_precision: 3.8447 - val_recall: 3.8358\n",
      "Epoch 43/50\n"
     ]
    },
    {
     "name": "stdout",
     "output_type": "stream",
     "text": [
      "127308/127308 [==============================] - 56s 437us/step - loss: 0.8624 - precision: 3.8786 - recall: 3.8898 - val_loss: 1.0905 - val_precision: 3.8600 - val_recall: 3.9523\n",
      "Epoch 44/50\n",
      "127308/127308 [==============================] - 56s 438us/step - loss: 0.8579 - precision: 3.8807 - recall: 3.8894 - val_loss: 1.0602 - val_precision: 3.8469 - val_recall: 3.9020\n",
      "Epoch 45/50\n",
      "127308/127308 [==============================] - 56s 437us/step - loss: 0.8592 - precision: 3.8811 - recall: 3.8895 - val_loss: 1.0639 - val_precision: 3.8462 - val_recall: 3.8007\n",
      "Epoch 46/50\n",
      "127308/127308 [==============================] - 56s 438us/step - loss: 0.8543 - precision: 3.8819 - recall: 3.8881 - val_loss: 1.0740 - val_precision: 3.8562 - val_recall: 3.8993\n",
      "Epoch 47/50\n",
      "127308/127308 [==============================] - 56s 437us/step - loss: 0.8518 - precision: 3.8824 - recall: 3.8927 - val_loss: 1.0818 - val_precision: 3.8533 - val_recall: 4.0257\n",
      "Epoch 48/50\n",
      "127308/127308 [==============================] - 56s 438us/step - loss: 0.8529 - precision: 3.8823 - recall: 3.8887 - val_loss: 1.0903 - val_precision: 3.8536 - val_recall: 3.9587\n",
      "Epoch 49/50\n",
      "127308/127308 [==============================] - 56s 437us/step - loss: 0.8490 - precision: 3.8835 - recall: 3.8955 - val_loss: 1.0740 - val_precision: 3.8535 - val_recall: 3.8470\n",
      "Epoch 50/50\n",
      "127308/127308 [==============================] - 56s 438us/step - loss: 0.8468 - precision: 3.8847 - recall: 3.8902 - val_loss: 1.1382 - val_precision: 3.8674 - val_recall: 3.9429\n"
     ]
    }
   ],
   "source": [
    "Userembedding = model.fit([user_df['idxuserId'], user_df['idxitemId']], user_df['Rating'],validation_split=0.1, epochs=50, verbose=1)"
   ]
  },
  {
   "cell_type": "code",
   "execution_count": 32,
   "metadata": {
    "scrolled": false
   },
   "outputs": [
    {
     "data": {
      "text/plain": [
       "Text(0, 0.5, 'Train Error')"
      ]
     },
     "execution_count": 32,
     "metadata": {},
     "output_type": "execute_result"
    },
    {
     "data": {
      "image/png": "[encoded data removed]",
      "text/plain": [
       "<Figure size 432x288 with 1 Axes>"
      ]
     },
     "metadata": {
      "needs_background": "light"
     },
     "output_type": "display_data"
    }
   ],
   "source": [
    "pd.Series(Userembedding.history['loss']).plot()#logy=True)\n",
    "plt.xlabel(\"Epoch\")\n",
    "plt.ylabel(\"Train Error\")"
   ]
  },
  {
   "cell_type": "code",
   "execution_count": 33,
   "metadata": {},
   "outputs": [
    {
     "data": {
      "text/plain": [
       "mean    0.894758\n",
       "dtype: float64"
      ]
     },
     "execution_count": 33,
     "metadata": {},
     "output_type": "execute_result"
    }
   ],
   "source": [
    "Embedding_loss = pd.DataFrame(Userembedding.history['loss'], columns=['mean'])\n",
    "Embedding_loss.mean()"
   ]
  },
  {
   "cell_type": "code",
   "execution_count": 34,
   "metadata": {},
   "outputs": [],
   "source": [
    "y_pred = np.round(model.predict([testkeras['idxuserId'], testkeras['idxitemId']]),0)\n",
    "y_true = np.array(testkeras['Rating'])"
   ]
  },
  {
   "cell_type": "code",
   "execution_count": 35,
   "metadata": {},
   "outputs": [],
   "source": [
    "a = keras.losses.mean_squared_error(y_true, y_pred)"
   ]
  },
  {
   "cell_type": "code",
   "execution_count": 36,
   "metadata": {},
   "outputs": [
    {
     "data": {
      "text/plain": [
       "0.6424430934539799"
      ]
     },
     "execution_count": 36,
     "metadata": {},
     "output_type": "execute_result"
    }
   ],
   "source": [
    "from sklearn.metrics import mean_squared_error, mean_absolute_error\n",
    "mean_absolute_error(y_true, y_pred)"
   ]
  },
  {
   "cell_type": "markdown",
   "metadata": {},
   "source": [
    "# serialize model to JSON\n",
    "#model_json = model.to_json()\n",
    "#with open(\"model.json\", \"w\") as json_file:\n",
    "#    json_file.write(model_json)\n",
    "# serialize weights to HDF5\n",
    "#model.save_weights(\"model.h5\")\n",
    "#print(\"Saved model to disk\")\n",
    " \n",
    "# later...\n",
    " \n",
    "# load json and create model\n",
    "json_file = open('model.json', 'r')\n",
    "loaded_model_json = json_file.read()\n",
    "json_file.close()\n",
    "loaded_model = model_from_json(loaded_model_json)\n",
    "# load weights into new model\n",
    "loaded_model.load_weights(\"model.h5\")\n",
    "print(\"Loaded model from disk\")\n",
    " \n",
    "# evaluate loaded model on test data\n",
    "loaded_model.compile(loss='mean_absolute_error', optimizer='adam', metrics=['accuracy'])\n",
    "#score = loaded_model.evaluate(y_pred, y_true, verbose=1)\n",
    "#print(\"%s: %.2f%%\" % (loaded_model.metrics_names[1], score[1]*100))"
   ]
  },
  {
   "cell_type": "markdown",
   "metadata": {},
   "source": [
    "## Analysis"
   ]
  },
  {
   "cell_type": "code",
   "execution_count": 37,
   "metadata": {},
   "outputs": [
    {
     "data": {
      "text/plain": [
       "(141455, 5)"
      ]
     },
     "execution_count": 37,
     "metadata": {},
     "output_type": "execute_result"
    }
   ],
   "source": [
    "# Extract embeddings\n",
    "user_layer = model.get_layer('User-Embedding')\n",
    "user_weights = user_layer.get_weights()[0]\n",
    "user_weights.shape"
   ]
  },
  {
   "cell_type": "code",
   "execution_count": 38,
   "metadata": {},
   "outputs": [],
   "source": [
    "np.savetxt('user_weights.tsv', user_weights,delimiter='\\t') "
   ]
  },
  {
   "cell_type": "markdown",
   "metadata": {},
   "source": [
    "#### We need to normalize the embeddings so that the dot product between two embeddings becomes the cosine similarity."
   ]
  },
  {
   "cell_type": "code",
   "execution_count": 39,
   "metadata": {},
   "outputs": [
    {
     "data": {
      "text/plain": [
       "1.0"
      ]
     },
     "execution_count": 39,
     "metadata": {},
     "output_type": "execute_result"
    }
   ],
   "source": [
    "user_weights = user_weights / np.linalg.norm(user_weights, axis = 1).reshape((-1, 1))\n",
    "user_weights[0]\n",
    "np.sum(np.square(user_weights[0]))"
   ]
  },
  {
   "cell_type": "code",
   "execution_count": 40,
   "metadata": {},
   "outputs": [
    {
     "data": {
      "text/plain": [
       "array([[ 0.4710172 ,  0.41563463,  0.3737836 , -0.49730328, -0.46729642],\n",
       "       [ 0.575923  ,  0.38835007, -0.10286891, -0.52473325, -0.48121718],\n",
       "       [-0.4891263 , -0.4285059 ,  0.55828303,  0.20793061,  0.4714054 ],\n",
       "       ...,\n",
       "       [-0.60975426,  0.08551025,  0.3416863 , -0.37499908,  0.60292107],\n",
       "       [-0.2690084 , -0.31127974, -0.64068854,  0.5027954 , -0.40921196],\n",
       "       [-0.61638975, -0.4526669 , -0.55808556,  0.12722096, -0.2958235 ]],\n",
       "      dtype=float32)"
      ]
     },
     "execution_count": 40,
     "metadata": {},
     "output_type": "execute_result"
    }
   ],
   "source": [
    "user_weights"
   ]
  },
  {
   "cell_type": "markdown",
   "metadata": {},
   "source": [
    "### Top 5 closest Users"
   ]
  },
  {
   "cell_type": "code",
   "execution_count": 49,
   "metadata": {},
   "outputs": [
    {
     "data": {
      "text/plain": [
       "array([137853,  94385, 131016, 106697,      0], dtype=int64)"
      ]
     },
     "execution_count": 49,
     "metadata": {},
     "output_type": "execute_result"
    }
   ],
   "source": [
    "dists =np.dot(user_weights,user_weights[0]) # Calculate the similarity for first user in array\n",
    "sorted_dists = np.argsort(dists) # sort the dists list return the least simlar user idx to closest \n",
    "sorted_dists[-5:] # Top 5 closest user'index"
   ]
  },
  {
   "cell_type": "markdown",
   "metadata": {},
   "source": [
    "### The similarity of cloesest user to first user in array"
   ]
  },
  {
   "cell_type": "code",
   "execution_count": 34,
   "metadata": {},
   "outputs": [
    {
     "data": {
      "text/plain": [
       "(0.99588007, 0.9959849, 0.99621785, 0.99776953, 1.0)"
      ]
     },
     "execution_count": 34,
     "metadata": {},
     "output_type": "execute_result"
    }
   ],
   "source": [
    "dists[137853],dists[94385],dists[131016],dists[106697],dists[0]"
   ]
  },
  {
   "cell_type": "code",
   "execution_count": 44,
   "metadata": {},
   "outputs": [],
   "source": [
    "#get user's id through user index\n",
    "def get_user_id_from_idx(user_idx):\n",
    "    return user_df[user_df['idxuserId']== user_idx].iloc[0][0].item()"
   ]
  },
  {
   "cell_type": "code",
   "execution_count": 42,
   "metadata": {
    "scrolled": true
   },
   "outputs": [
    {
     "data": {
      "text/plain": [
       "10000"
      ]
     },
     "execution_count": 42,
     "metadata": {},
     "output_type": "execute_result"
    }
   ],
   "source": [
    "get_user_id_from_idx(0)"
   ]
  },
  {
   "cell_type": "code",
   "execution_count": 46,
   "metadata": {},
   "outputs": [],
   "source": [
    "def get_useridx_from_userid(userid):\n",
    "    return user_df[user_df['userId']== userid].iloc[0][3].item()"
   ]
  },
  {
   "cell_type": "code",
   "execution_count": 47,
   "metadata": {
    "scrolled": true
   },
   "outputs": [
    {
     "data": {
      "text/plain": [
       "0"
      ]
     },
     "execution_count": 47,
     "metadata": {},
     "output_type": "execute_result"
    }
   ],
   "source": [
    "get_useridx_from_userid(10000)"
   ]
  },
  {
   "cell_type": "markdown",
   "metadata": {},
   "source": [
    "### Getting recommended businessid by closest user_index which ratings are greater than 3 "
   ]
  },
  {
   "cell_type": "code",
   "execution_count": 41,
   "metadata": {},
   "outputs": [],
   "source": [
    "#get recommended_businessid by user_index\n",
    "def get_recommended_businessid(user_idx,rating =3):\n",
    "    ''' Given a user index return the businessid which rating greater than 3\n",
    "        otherwise return rating smaller than 3'''\n",
    "    a = np.array(user_df[user_df['idxuserId']== user_idx]) \n",
    "    if len(a[np.where(a[:,2]>=rating)][:,1]) != 0: # Get userid by user index than return the businessid which are greater than raing\n",
    "        return a[np.where(a[:,2]>=rating)][:,1]\n",
    "    elif len(a[np.where(a[:,2]>=rating)][:,1]) == 0: # if no business' rating greater than 3 return other business\n",
    "        print(\"No business rating Greater than 3, but here are users that simlilary to you disliked business\")\n",
    "        return a[np.where(a[:,2]<=rating)][:,1]\n",
    "                  "
   ]
  },
  {
   "cell_type": "code",
   "execution_count": 42,
   "metadata": {},
   "outputs": [],
   "source": [
    "def get_business_info(business_id):\n",
    "    '''Get business's information by business Id'''\n",
    "    buslist = []\n",
    "    if isinstance(business_id, (list, tuple, np.ndarray)) == True:\n",
    "        for i in business_id:\n",
    "            print(i,business_id)\n",
    "            for a in range(0,len(business_info)):\n",
    "                if business_info[a]['business_id']==get_business_token(i):\n",
    "                    buslist.append(business_info[a])\n",
    "        return buslist\n",
    "    else:\n",
    "        for i in range(0,len(business_info)):\n",
    "            if business_info[i]['business_id']==get_business_token(business_id):\n",
    "                return business_info[i]"
   ]
  },
  {
   "cell_type": "markdown",
   "metadata": {},
   "source": [
    "### Get Top Five recommanded business's infomation for user 10000"
   ]
  },
  {
   "cell_type": "code",
   "execution_count": 49,
   "metadata": {
    "scrolled": false
   },
   "outputs": [
    {
     "name": "stdout",
     "output_type": "stream",
     "text": [
      "0 [   0 2583 2263 1705  707]\n",
      "2583 [   0 2583 2263 1705  707]\n",
      "2263 [   0 2583 2263 1705  707]\n",
      "1705 [   0 2583 2263 1705  707]\n",
      "707 [   0 2583 2263 1705  707]\n"
     ]
    },
    {
     "data": {
      "text/plain": [
       "[{'business_id': '9yKzy9PApeiPPOUJEtnvkg',\n",
       "  'full_address': '6106 S 32nd St\\nPhoenix, AZ 85042',\n",
       "  'open': True,\n",
       "  'categories': ['Breakfast & Brunch', 'Restaurants'],\n",
       "  'city': 'Phoenix',\n",
       "  'review_count': 116,\n",
       "  'name': 'Morning Glory Cafe',\n",
       "  'neighborhoods': [],\n",
       "  'longitude': -112.012504,\n",
       "  'state': 'AZ',\n",
       "  'stars': 4.0,\n",
       "  'latitude': 33.390792,\n",
       "  'type': 'business'},\n",
       " {'business_id': '04Jrd2zSzwHwmBqdKQDmIw',\n",
       "  'full_address': '929 N Dobson Rd\\nSte 102\\nMesa, AZ 85201',\n",
       "  'open': True,\n",
       "  'categories': ['Japanese', 'Restaurants'],\n",
       "  'city': 'Mesa',\n",
       "  'review_count': 11,\n",
       "  'name': 'Yogis Grill',\n",
       "  'neighborhoods': [],\n",
       "  'longitude': -111.8742667,\n",
       "  'state': 'AZ',\n",
       "  'stars': 3.5,\n",
       "  'latitude': 33.4292474,\n",
       "  'type': 'business'},\n",
       " {'business_id': '-3xbryp44xhpN4BohxXDdQ',\n",
       "  'full_address': '21001 N Tatum Blvd\\nPhoenix, AZ 85050',\n",
       "  'open': True,\n",
       "  'categories': ['Bars', 'Steakhouses', 'Nightlife', 'Restaurants'],\n",
       "  'city': 'Phoenix',\n",
       "  'review_count': 65,\n",
       "  'name': 'The Keg Steakhouse & Bar',\n",
       "  'neighborhoods': [],\n",
       "  'longitude': -111.9746066,\n",
       "  'state': 'AZ',\n",
       "  'stars': 3.5,\n",
       "  'latitude': 33.678615,\n",
       "  'type': 'business'},\n",
       " {'business_id': 'xKXahNKbBUZtOPWibwq94w',\n",
       "  'full_address': '2515 N Scottsdale Rd\\nScottsdale, AZ 85250',\n",
       "  'open': True,\n",
       "  'categories': ['Food',\n",
       "   'Wine Bars',\n",
       "   'Bars',\n",
       "   'Nightlife',\n",
       "   'Beer, Wine & Spirits'],\n",
       "  'city': 'Scottsdale',\n",
       "  'review_count': 19,\n",
       "  'name': 'AZ Wine Company',\n",
       "  'neighborhoods': [],\n",
       "  'longitude': -111.925588,\n",
       "  'state': 'AZ',\n",
       "  'stars': 4.0,\n",
       "  'latitude': 33.475302,\n",
       "  'type': 'business'},\n",
       " {'business_id': '8t80-omyflkywRfu9LPh6g',\n",
       "  'full_address': '7135 E Camelback  Rd\\nSte 130\\nScottsdale, AZ 85250',\n",
       "  'open': True,\n",
       "  'categories': ['Seafood', 'American (Traditional)', 'Restaurants'],\n",
       "  'city': 'Scottsdale',\n",
       "  'review_count': 194,\n",
       "  'name': 'Wildfish Seafood Grille',\n",
       "  'neighborhoods': [],\n",
       "  'longitude': -111.928035020828,\n",
       "  'state': 'AZ',\n",
       "  'stars': 4.0,\n",
       "  'latitude': 33.5020036165904,\n",
       "  'type': 'business'}]"
      ]
     },
     "execution_count": 49,
     "metadata": {},
     "output_type": "execute_result"
    }
   ],
   "source": [
    "get_business_info(get_recommended_businessid(get_useridx_from_userid(10000), rating =5)[:5])"
   ]
  },
  {
   "cell_type": "code",
   "execution_count": null,
   "metadata": {},
   "outputs": [],
   "source": [
    "#from FindSimlar import find_similar"
   ]
  },
  {
   "cell_type": "code",
   "execution_count": null,
   "metadata": {},
   "outputs": [],
   "source": [
    "#find_similar(10000, user_weights,n=5)"
   ]
  },
  {
   "cell_type": "markdown",
   "metadata": {},
   "source": [
    "## Evaluation "
   ]
  },
  {
   "cell_type": "code",
   "execution_count": 50,
   "metadata": {},
   "outputs": [],
   "source": [
    "from lenskit import batch, topn, util\n",
    "from lenskit import crossfold as xf\n",
    "from lenskit.algorithms import Predictor, Recommender\n",
    "from lenskit.algorithms.user_knn import UserUser\n",
    "from lenskit.algorithms.item_knn import ItemItem\n",
    "from lenskit.algorithms.basic import UnratedItemCandidateSelector\n",
    "from lenskit.metrics.predict import rmse"
   ]
  },
  {
   "cell_type": "code",
   "execution_count": 51,
   "metadata": {},
   "outputs": [
    {
     "data": {
      "text/html": [
       "<div>\n",
       "<style scoped>\n",
       "    .dataframe tbody tr th:only-of-type {\n",
       "        vertical-align: middle;\n",
       "    }\n",
       "\n",
       "    .dataframe tbody tr th {\n",
       "        vertical-align: top;\n",
       "    }\n",
       "\n",
       "    .dataframe thead th {\n",
       "        text-align: right;\n",
       "    }\n",
       "</style>\n",
       "<table border=\"1\" class=\"dataframe\">\n",
       "  <thead>\n",
       "    <tr style=\"text-align: right;\">\n",
       "      <th></th>\n",
       "      <th>userId</th>\n",
       "      <th>itemId</th>\n",
       "      <th>Rating</th>\n",
       "      <th>idxuserId</th>\n",
       "      <th>idxitemId</th>\n",
       "    </tr>\n",
       "  </thead>\n",
       "  <tbody>\n",
       "    <tr>\n",
       "      <th>0</th>\n",
       "      <td>10000</td>\n",
       "      <td>0</td>\n",
       "      <td>5</td>\n",
       "      <td>0</td>\n",
       "      <td>0</td>\n",
       "    </tr>\n",
       "    <tr>\n",
       "      <th>1</th>\n",
       "      <td>10001</td>\n",
       "      <td>1</td>\n",
       "      <td>5</td>\n",
       "      <td>1</td>\n",
       "      <td>1</td>\n",
       "    </tr>\n",
       "    <tr>\n",
       "      <th>2</th>\n",
       "      <td>10002</td>\n",
       "      <td>2</td>\n",
       "      <td>5</td>\n",
       "      <td>2</td>\n",
       "      <td>2</td>\n",
       "    </tr>\n",
       "    <tr>\n",
       "      <th>3</th>\n",
       "      <td>10003</td>\n",
       "      <td>3</td>\n",
       "      <td>4</td>\n",
       "      <td>3</td>\n",
       "      <td>3</td>\n",
       "    </tr>\n",
       "    <tr>\n",
       "      <th>4</th>\n",
       "      <td>10004</td>\n",
       "      <td>4</td>\n",
       "      <td>5</td>\n",
       "      <td>4</td>\n",
       "      <td>4</td>\n",
       "    </tr>\n",
       "  </tbody>\n",
       "</table>\n",
       "</div>"
      ],
      "text/plain": [
       "   userId  itemId  Rating  idxuserId  idxitemId\n",
       "0   10000       0       5          0          0\n",
       "1   10001       1       5          1          1\n",
       "2   10002       2       5          2          2\n",
       "3   10003       3       4          3          3\n",
       "4   10004       4       5          4          4"
      ]
     },
     "execution_count": 51,
     "metadata": {},
     "output_type": "execute_result"
    }
   ],
   "source": [
    "user_df.head()"
   ]
  },
  {
   "cell_type": "code",
   "execution_count": 52,
   "metadata": {},
   "outputs": [
    {
     "data": {
      "text/plain": [
       "251"
      ]
     },
     "execution_count": 52,
     "metadata": {},
     "output_type": "execute_result"
    }
   ],
   "source": [
    "ratings_df = user_df[['idxuserId','idxitemId','Rating']]\n",
    "ratings_df.columns = ('user', 'item', 'rating')\n",
    "len(ratings_df[ratings_df['user']==521]['item'].unique())"
   ]
  },
  {
   "cell_type": "code",
   "execution_count": 53,
   "metadata": {},
   "outputs": [
    {
     "data": {
      "text/html": [
       "<div>\n",
       "<style scoped>\n",
       "    .dataframe tbody tr th:only-of-type {\n",
       "        vertical-align: middle;\n",
       "    }\n",
       "\n",
       "    .dataframe tbody tr th {\n",
       "        vertical-align: top;\n",
       "    }\n",
       "\n",
       "    .dataframe thead th {\n",
       "        text-align: right;\n",
       "    }\n",
       "</style>\n",
       "<table border=\"1\" class=\"dataframe\">\n",
       "  <thead>\n",
       "    <tr style=\"text-align: right;\">\n",
       "      <th></th>\n",
       "      <th>user</th>\n",
       "      <th>item</th>\n",
       "      <th>rating</th>\n",
       "    </tr>\n",
       "  </thead>\n",
       "  <tbody>\n",
       "    <tr>\n",
       "      <th>0</th>\n",
       "      <td>0</td>\n",
       "      <td>0</td>\n",
       "      <td>5</td>\n",
       "    </tr>\n",
       "    <tr>\n",
       "      <th>1</th>\n",
       "      <td>1</td>\n",
       "      <td>1</td>\n",
       "      <td>5</td>\n",
       "    </tr>\n",
       "    <tr>\n",
       "      <th>2</th>\n",
       "      <td>2</td>\n",
       "      <td>2</td>\n",
       "      <td>5</td>\n",
       "    </tr>\n",
       "    <tr>\n",
       "      <th>3</th>\n",
       "      <td>3</td>\n",
       "      <td>3</td>\n",
       "      <td>4</td>\n",
       "    </tr>\n",
       "    <tr>\n",
       "      <th>4</th>\n",
       "      <td>4</td>\n",
       "      <td>4</td>\n",
       "      <td>5</td>\n",
       "    </tr>\n",
       "  </tbody>\n",
       "</table>\n",
       "</div>"
      ],
      "text/plain": [
       "   user  item  rating\n",
       "0     0     0       5\n",
       "1     1     1       5\n",
       "2     2     2       5\n",
       "3     3     3       4\n",
       "4     4     4       5"
      ]
     },
     "execution_count": 53,
     "metadata": {},
     "output_type": "execute_result"
    }
   ],
   "source": [
    "ratings_df = ratings_df.drop_duplicates(subset = ['user','item'],keep ='first')\n",
    "ratings_df.head()"
   ]
  },
  {
   "cell_type": "code",
   "execution_count": 54,
   "metadata": {},
   "outputs": [],
   "source": [
    "user_knn = UserUser(nnbrs=5, min_sim=0.1, center=True, aggregate='weighted-average')\n",
    "item_knn = ItemItem(nnbrs=5, min_sim=0.1, center=True, aggregate='weighted-average')"
   ]
  },
  {
   "cell_type": "code",
   "execution_count": 55,
   "metadata": {},
   "outputs": [],
   "source": [
    "def eval_recs(aname, fold, algo, train, test):\n",
    "    fittable = util.clone(algo)\n",
    "    fittable = Recommender.adapt(fittable)\n",
    "    fittable.fit(train)\n",
    "    \n",
    "    users = test.user.unique()\n",
    "    recs = batch.recommend(fittable, users, 10)\n",
    "    # add the algorithm\n",
    "    recs['Algorithm'] = aname\n",
    "    recs['Fold'] = fold\n",
    "    return recs"
   ]
  },
  {
   "cell_type": "code",
   "execution_count": 56,
   "metadata": {},
   "outputs": [],
   "source": [
    "def eval_preds(aname, fold, algo, train, test):\n",
    "    fittable = util.clone(algo)\n",
    "    fittable.fit(train)\n",
    "    \n",
    "    preds = batch.predict(fittable, test)\n",
    "    preds['Algorithm'] = aname\n",
    "    preds['Fold'] = fold\n",
    "    return preds"
   ]
  },
  {
   "cell_type": "code",
   "execution_count": 57,
   "metadata": {},
   "outputs": [
    {
     "name": "stderr",
     "output_type": "stream",
     "text": [
      "D:\\Anaconda3\\envs\\tensorflow\\lib\\site-packages\\lenskit-0.6.1-py3.7.egg\\lenskit\\algorithms\\user_knn.py:89: RuntimeWarning: invalid value encountered in true_divide\n",
      "D:\\Anaconda3\\envs\\tensorflow\\lib\\site-packages\\lenskit-0.6.1-py3.7.egg\\lenskit\\algorithms\\user_knn.py:153: RuntimeWarning: invalid value encountered in greater_equal\n",
      "D:\\Anaconda3\\envs\\tensorflow\\lib\\site-packages\\lenskit-0.6.1-py3.7.egg\\lenskit\\algorithms\\user_knn.py:159: RuntimeWarning: invalid value encountered in greater_equal\n",
      "D:\\Anaconda3\\envs\\tensorflow\\lib\\site-packages\\lenskit-0.6.1-py3.7.egg\\lenskit\\algorithms\\user_knn.py:153: RuntimeWarning: invalid value encountered in greater_equal\n",
      "D:\\Anaconda3\\envs\\tensorflow\\lib\\site-packages\\lenskit-0.6.1-py3.7.egg\\lenskit\\algorithms\\user_knn.py:159: RuntimeWarning: invalid value encountered in greater_equal\n"
     ]
    },
    {
     "name": "stdout",
     "output_type": "stream",
     "text": [
      "Completed fold 1\n"
     ]
    },
    {
     "name": "stderr",
     "output_type": "stream",
     "text": [
      "D:\\Anaconda3\\envs\\tensorflow\\lib\\site-packages\\lenskit-0.6.1-py3.7.egg\\lenskit\\algorithms\\user_knn.py:89: RuntimeWarning: invalid value encountered in true_divide\n",
      "D:\\Anaconda3\\envs\\tensorflow\\lib\\site-packages\\lenskit-0.6.1-py3.7.egg\\lenskit\\algorithms\\user_knn.py:153: RuntimeWarning: invalid value encountered in greater_equal\n",
      "D:\\Anaconda3\\envs\\tensorflow\\lib\\site-packages\\lenskit-0.6.1-py3.7.egg\\lenskit\\algorithms\\user_knn.py:159: RuntimeWarning: invalid value encountered in greater_equal\n"
     ]
    },
    {
     "name": "stdout",
     "output_type": "stream",
     "text": [
      "Completed fold 2\n",
      "Completed fold 3\n",
      "Completed fold 4\n",
      "Completed fold 5\n"
     ]
    }
   ],
   "source": [
    "np.random.seed(20190303)\n",
    "\n",
    "all_preds = []\n",
    "fold = 1\n",
    "# HOMEWORK 3 TODO\n",
    "# Implement 5-fold cross-validation with user-based splitting\n",
    "# Call eval_preds for each algorithm, each fold\n",
    "# Results should be appended to all_preds\n",
    "#test_data = []\n",
    "\n",
    "for train, test in xf.partition_users(ratings_df[['user', 'item', 'rating']], 5, xf.SampleFrac(0.2)):\n",
    "\n",
    "    #test_data.append(test)\n",
    "    all_preds.append(eval_preds('UserKNN',fold,user_knn, train, test))\n",
    "    all_preds.append(eval_preds('ItemKNN',fold,item_knn, train, test))\n",
    "\n",
    "    \n",
    "    print(\"Completed fold {}\".format(fold))\n",
    "    fold += 1"
   ]
  },
  {
   "cell_type": "code",
   "execution_count": 58,
   "metadata": {},
   "outputs": [],
   "source": [
    "#for train, test in xf.partition_users(ratings_df[['user', 'item', 'rating']], 5, xf.SampleFrac(0.2)):\n",
    "    "
   ]
  },
  {
   "cell_type": "code",
   "execution_count": 59,
   "metadata": {},
   "outputs": [
    {
     "data": {
      "text/html": [
       "<div>\n",
       "<style scoped>\n",
       "    .dataframe tbody tr th:only-of-type {\n",
       "        vertical-align: middle;\n",
       "    }\n",
       "\n",
       "    .dataframe tbody tr th {\n",
       "        vertical-align: top;\n",
       "    }\n",
       "\n",
       "    .dataframe thead th {\n",
       "        text-align: right;\n",
       "    }\n",
       "</style>\n",
       "<table border=\"1\" class=\"dataframe\">\n",
       "  <thead>\n",
       "    <tr style=\"text-align: right;\">\n",
       "      <th></th>\n",
       "      <th>user</th>\n",
       "      <th>item</th>\n",
       "      <th>rating</th>\n",
       "      <th>prediction</th>\n",
       "      <th>Algorithm</th>\n",
       "      <th>Fold</th>\n",
       "    </tr>\n",
       "  </thead>\n",
       "  <tbody>\n",
       "    <tr>\n",
       "      <th>0</th>\n",
       "      <td>2</td>\n",
       "      <td>3177</td>\n",
       "      <td>1</td>\n",
       "      <td>NaN</td>\n",
       "      <td>UserKNN</td>\n",
       "      <td>1</td>\n",
       "    </tr>\n",
       "    <tr>\n",
       "      <th>1</th>\n",
       "      <td>2</td>\n",
       "      <td>799</td>\n",
       "      <td>2</td>\n",
       "      <td>NaN</td>\n",
       "      <td>UserKNN</td>\n",
       "      <td>1</td>\n",
       "    </tr>\n",
       "    <tr>\n",
       "      <th>2</th>\n",
       "      <td>3</td>\n",
       "      <td>98</td>\n",
       "      <td>4</td>\n",
       "      <td>4.276499</td>\n",
       "      <td>UserKNN</td>\n",
       "      <td>1</td>\n",
       "    </tr>\n",
       "    <tr>\n",
       "      <th>3</th>\n",
       "      <td>3</td>\n",
       "      <td>139</td>\n",
       "      <td>5</td>\n",
       "      <td>3.879785</td>\n",
       "      <td>UserKNN</td>\n",
       "      <td>1</td>\n",
       "    </tr>\n",
       "    <tr>\n",
       "      <th>4</th>\n",
       "      <td>4</td>\n",
       "      <td>4631</td>\n",
       "      <td>3</td>\n",
       "      <td>NaN</td>\n",
       "      <td>UserKNN</td>\n",
       "      <td>1</td>\n",
       "    </tr>\n",
       "  </tbody>\n",
       "</table>\n",
       "</div>"
      ],
      "text/plain": [
       "   user  item  rating  prediction Algorithm  Fold\n",
       "0     2  3177       1         NaN   UserKNN     1\n",
       "1     2   799       2         NaN   UserKNN     1\n",
       "2     3    98       4    4.276499   UserKNN     1\n",
       "3     3   139       5    3.879785   UserKNN     1\n",
       "4     4  4631       3         NaN   UserKNN     1"
      ]
     },
     "execution_count": 59,
     "metadata": {},
     "output_type": "execute_result"
    }
   ],
   "source": [
    "all_preds = pd.concat(all_preds, ignore_index=True)\n",
    "all_preds.head()"
   ]
  },
  {
   "cell_type": "code",
   "execution_count": 60,
   "metadata": {},
   "outputs": [
    {
     "data": {
      "text/plain": [
       "Algorithm  Fold\n",
       "ItemKNN    1       1.230239\n",
       "           2       1.245542\n",
       "           3       1.185197\n",
       "           4       1.204711\n",
       "           5       1.212340\n",
       "UserKNN    1       1.175262\n",
       "           2       1.241259\n",
       "           3       1.209075\n",
       "           4       1.218906\n",
       "           5       1.221485\n",
       "dtype: float64"
      ]
     },
     "execution_count": 60,
     "metadata": {},
     "output_type": "execute_result"
    }
   ],
   "source": [
    "Algo_rmse = all_preds.groupby(['Algorithm','Fold']).apply(lambda all_preds: rmse(all_preds.prediction, all_preds.rating))\n",
    "Algo_rmse"
   ]
  },
  {
   "cell_type": "code",
   "execution_count": 80,
   "metadata": {
    "scrolled": false
   },
   "outputs": [
    {
     "data": {
      "text/plain": [
       "Text(0, 0.5, 'Mean RMSE over 5 fold')"
      ]
     },
     "execution_count": 80,
     "metadata": {},
     "output_type": "execute_result"
    },
    {
     "data": {
      "image/png": "[encoded data removed]",
      "text/plain": [
       "<Figure size 432x288 with 1 Axes>"
      ]
     },
     "metadata": {
      "needs_background": "light"
     },
     "output_type": "display_data"
    }
   ],
   "source": [
    "\n",
    "mean_std = Algo_rmse.groupby('Algorithm').agg([np.mean, np.std])\n",
    "mean_std['mean'].plot.bar(yerr=mean_std['std'], capsize=4).set_ylabel('Mean RMSE over 5 fold')\n",
    "#plt.ylabel('Mean RMSE over 5 fold')"
   ]
  },
  {
   "cell_type": "markdown",
   "metadata": {},
   "source": [
    "### Compare Deeplearning Model RMSE to others"
   ]
  },
  {
   "cell_type": "code",
   "execution_count": 83,
   "metadata": {},
   "outputs": [
    {
     "data": {
      "text/plain": [
       "Text(0, 0.5, 'Mean RMSE')"
      ]
     },
     "execution_count": 83,
     "metadata": {},
     "output_type": "execute_result"
    },
    {
     "data": {
      "image/png": "[encoded data removed]",
      "text/plain": [
       "<Figure size 432x288 with 1 Axes>"
      ]
     },
     "metadata": {
      "needs_background": "light"
     },
     "output_type": "display_data"
    }
   ],
   "source": [
    "\n",
    "mean_std.loc['Deeplearning-Userembedding']=[Embedding_loss.mean().item(),float(np.std(Embedding_loss).values)]\n",
    "mean_std['mean'].plot.bar(yerr=mean_std['std'], rot=0,capsize=4).set_ylabel('Mean RMSE')"
   ]
  },
  {
   "cell_type": "code",
   "execution_count": 106,
   "metadata": {},
   "outputs": [
    {
     "data": {
      "text/html": [
       "<div>\n",
       "<style scoped>\n",
       "    .dataframe tbody tr th:only-of-type {\n",
       "        vertical-align: middle;\n",
       "    }\n",
       "\n",
       "    .dataframe tbody tr th {\n",
       "        vertical-align: top;\n",
       "    }\n",
       "\n",
       "    .dataframe thead th {\n",
       "        text-align: right;\n",
       "    }\n",
       "</style>\n",
       "<table border=\"1\" class=\"dataframe\">\n",
       "  <thead>\n",
       "    <tr style=\"text-align: right;\">\n",
       "      <th></th>\n",
       "      <th>mean</th>\n",
       "      <th>std</th>\n",
       "    </tr>\n",
       "    <tr>\n",
       "      <th>Algorithm</th>\n",
       "      <th></th>\n",
       "      <th></th>\n",
       "    </tr>\n",
       "  </thead>\n",
       "  <tbody>\n",
       "    <tr>\n",
       "      <th>ItemKNN</th>\n",
       "      <td>1.215606</td>\n",
       "      <td>0.023261</td>\n",
       "    </tr>\n",
       "    <tr>\n",
       "      <th>UserKNN</th>\n",
       "      <td>1.213198</td>\n",
       "      <td>0.024212</td>\n",
       "    </tr>\n",
       "    <tr>\n",
       "      <th>Deeplearning-Userembedding</th>\n",
       "      <td>0.894758</td>\n",
       "      <td>0.044566</td>\n",
       "    </tr>\n",
       "  </tbody>\n",
       "</table>\n",
       "</div>"
      ],
      "text/plain": [
       "                                mean       std\n",
       "Algorithm                                     \n",
       "ItemKNN                     1.215606  0.023261\n",
       "UserKNN                     1.213198  0.024212\n",
       "Deeplearning-Userembedding  0.894758  0.044566"
      ]
     },
     "execution_count": 106,
     "metadata": {},
     "output_type": "execute_result"
    }
   ],
   "source": [
    "mean_std"
   ]
  },
  {
   "cell_type": "code",
   "execution_count": 70,
   "metadata": {},
   "outputs": [
    {
     "name": "stdout",
     "output_type": "stream",
     "text": [
      "Completed fold 0\n",
      "Completed fold 1\n",
      "Completed fold 2\n",
      "Completed fold 3\n",
      "Completed fold 4\n"
     ]
    }
   ],
   "source": [
    "np.random.seed(20190317)\n",
    "algo_names = list(('UserKNN', 'ItemKNN'))\n",
    "all_recs1 = []\n",
    "test_data1 = []\n",
    "fold = 0\n",
    "for train, test in xf.partition_users(ratings_df, 5, xf.SampleFrac(0.2)):\n",
    "# 5 fold cross-validation\n",
    "    test_data1.append(test)\n",
    "    for i, algo in enumerate((user_knn,item_knn)):\n",
    "        all_recs1.append(eval_recs(algo_names[i], fold, algo, train, test))\n",
    "    print(\"Completed fold {}\".format(fold))\n",
    "    fold += 1"
   ]
  },
  {
   "cell_type": "code",
   "execution_count": 71,
   "metadata": {},
   "outputs": [],
   "source": [
    "all_recs1 = pd.concat(all_recs1, ignore_index=True)\n",
    "test_data1 = pd.concat(test_data1, ignore_index=True)"
   ]
  },
  {
   "cell_type": "code",
   "execution_count": 72,
   "metadata": {},
   "outputs": [],
   "source": [
    "rla = topn.RecListAnalysis()\n",
    "rla.add_metric(topn.precision)\n",
    "byuser_results = all_recs1.groupby(['Algorithm', 'Fold']).apply(lambda df: rla.compute(df, test_data1))"
   ]
  },
  {
   "cell_type": "code",
   "execution_count": 84,
   "metadata": {},
   "outputs": [],
   "source": [
    "eval_grouped = byuser_results.groupby(['Algorithm', 'Fold'])\n",
    "eval_grouped_mean = eval_grouped.mean()\n",
    "result_df = pd.DataFrame({'mean': eval_grouped_mean.groupby('Algorithm').mean()['precision'],\n",
    "                        'std': eval_grouped_mean.groupby('Algorithm').std()['precision']})"
   ]
  },
  {
   "cell_type": "code",
   "execution_count": 85,
   "metadata": {},
   "outputs": [],
   "source": [
    "result_df.loc['Deeplearning-Userembedding']=[np.mean(Userembedding.history['precision']),float(np.std(np.mean(Userembedding.history['precision'])))]"
   ]
  },
  {
   "cell_type": "code",
   "execution_count": 86,
   "metadata": {},
   "outputs": [
    {
     "data": {
      "text/plain": [
       "Text(0, 0.5, 'precision@10')"
      ]
     },
     "execution_count": 86,
     "metadata": {},
     "output_type": "execute_result"
    },
    {
     "data": {
      "image/png": "[encoded data removed]",
      "text/plain": [
       "<Figure size 432x288 with 1 Axes>"
      ]
     },
     "metadata": {
      "needs_background": "light"
     },
     "output_type": "display_data"
    }
   ],
   "source": [
    "result_df['mean'].plot.bar(yerr=result_df['std'], rot = 0,capsize=4).set_ylabel('precision@10')"
   ]
  },
  {
   "cell_type": "code",
   "execution_count": 107,
   "metadata": {},
   "outputs": [
    {
     "data": {
      "text/html": [
       "<div>\n",
       "<style scoped>\n",
       "    .dataframe tbody tr th:only-of-type {\n",
       "        vertical-align: middle;\n",
       "    }\n",
       "\n",
       "    .dataframe tbody tr th {\n",
       "        vertical-align: top;\n",
       "    }\n",
       "\n",
       "    .dataframe thead th {\n",
       "        text-align: right;\n",
       "    }\n",
       "</style>\n",
       "<table border=\"1\" class=\"dataframe\">\n",
       "  <thead>\n",
       "    <tr style=\"text-align: right;\">\n",
       "      <th></th>\n",
       "      <th>mean</th>\n",
       "      <th>std</th>\n",
       "    </tr>\n",
       "    <tr>\n",
       "      <th>Algorithm</th>\n",
       "      <th></th>\n",
       "      <th></th>\n",
       "    </tr>\n",
       "  </thead>\n",
       "  <tbody>\n",
       "    <tr>\n",
       "      <th>ItemKNN</th>\n",
       "      <td>0.000932</td>\n",
       "      <td>0.000317</td>\n",
       "    </tr>\n",
       "    <tr>\n",
       "      <th>UserKNN</th>\n",
       "      <td>0.002313</td>\n",
       "      <td>0.000583</td>\n",
       "    </tr>\n",
       "    <tr>\n",
       "      <th>Deeplearning-Userembedding</th>\n",
       "      <td>3.869177</td>\n",
       "      <td>0.000000</td>\n",
       "    </tr>\n",
       "  </tbody>\n",
       "</table>\n",
       "</div>"
      ],
      "text/plain": [
       "                                mean       std\n",
       "Algorithm                                     \n",
       "ItemKNN                     0.000932  0.000317\n",
       "UserKNN                     0.002313  0.000583\n",
       "Deeplearning-Userembedding  3.869177  0.000000"
      ]
     },
     "execution_count": 107,
     "metadata": {},
     "output_type": "execute_result"
    }
   ],
   "source": [
    "result_df"
   ]
  },
  {
   "cell_type": "code",
   "execution_count": null,
   "metadata": {},
   "outputs": [],
   "source": []
  }
 ],
 "metadata": {
  "kernelspec": {
   "display_name": "Python 3",
   "language": "python",
   "name": "python3"
  },
  "language_info": {
   "codemirror_mode": {
    "name": "ipython",
    "version": 3
   },
   "file_extension": ".py",
   "mimetype": "text/x-python",
   "name": "python",
   "nbconvert_exporter": "python",
   "pygments_lexer": "ipython3",
   "version": "3.7.3"
  }
 },
 "nbformat": 4,
 "nbformat_minor": 2
}
